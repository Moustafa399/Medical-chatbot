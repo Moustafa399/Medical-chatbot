{
 "cells": [
  {
   "cell_type": "code",
   "execution_count": null,
   "id": "9ae53463",
   "metadata": {},
   "outputs": [],
   "source": [
    "!git clone https://github.com/yousefehab22/medical-chatbot.git   ##to downloud the folder of project\n"
   ]
  },
  {
   "cell_type": "code",
   "execution_count": 1,
   "id": "f1627f00",
   "metadata": {},
   "outputs": [],
   "source": [
    "%run utils1.py"
   ]
  },
  {
   "cell_type": "code",
   "execution_count": 3,
   "id": "429f8cf6",
   "metadata": {},
   "outputs": [],
   "source": [
    "%run train.py"
   ]
  },
  {
   "cell_type": "code",
   "execution_count": 4,
   "id": "f6ea96d7",
   "metadata": {},
   "outputs": [],
   "source": [
    "%run test_model.py\n"
   ]
  },
  {
   "cell_type": "code",
   "execution_count": null,
   "id": "c193a0ab",
   "metadata": {},
   "outputs": [
    {
     "name": "stdout",
     "output_type": "stream",
     "text": [
      "1/1 [==============================] - 0s 98ms/step\n",
      "1/1 [==============================] - 0s 27ms/step\n",
      "1/1 [==============================] - 0s 32ms/step\n",
      "1/1 [==============================] - 0s 29ms/step\n",
      "1/1 [==============================] - 0s 23ms/step\n"
     ]
    }
   ],
   "source": [
    "%run GUI.py\n"
   ]
  },
  {
   "cell_type": "code",
   "execution_count": null,
   "id": "79ff3d5a",
   "metadata": {},
   "outputs": [],
   "source": []
  }
 ],
 "metadata": {
  "kernelspec": {
   "display_name": "Python 3 (ipykernel)",
   "language": "python",
   "name": "python3"
  },
  "language_info": {
   "codemirror_mode": {
    "name": "ipython",
    "version": 3
   },
   "file_extension": ".py",
   "mimetype": "text/x-python",
   "name": "python",
   "nbconvert_exporter": "python",
   "pygments_lexer": "ipython3",
   "version": "3.9.13"
  }
 },
 "nbformat": 4,
 "nbformat_minor": 5
}
